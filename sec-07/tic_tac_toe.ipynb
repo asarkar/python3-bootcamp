{
 "cells": [
  {
   "cell_type": "code",
   "execution_count": null,
   "metadata": {},
   "outputs": [],
   "source": [
    "from collections import OrderedDict\n",
    "\n",
    "board = OrderedDict([\\\n",
    "                     (7, None), (8, None), (9, None),\\\n",
    "                     (4, None), (5, None), (6, None),\\\n",
    "                     (1, None), (2, None), (3, None)\\\n",
    "])\n",
    "winning_patterns = {\\\n",
    "                   7: [[8, 9], [4, 1], [5, 3]], 8: [[7, 9], [5, 2]], 9: [[7, 8], [6, 3], [5, 1]],\\\n",
    "                   4: [[7, 1], [5, 6]], 5: [[8, 2], [4, 6], [9, 1], [7, 3]], 6: [[9, 3], [4, 5]],\\\n",
    "                   1: [[7, 4], [2, 3], [5, 9]], 2: [[1, 3], [5, 8]], 3: [[1, 2], [9, 6], [7, 5]]\\\n",
    "}\n",
    "\n",
    "def print_board():\n",
    "    print(\"\\n\")\n",
    "    for k, v in board.items():\n",
    "        end = \" \"\n",
    "        if k % 3 == 0:                \n",
    "            end = \"\"\n",
    "        if v is None:\n",
    "            print(k, end = end)\n",
    "        else:\n",
    "            print(v, end = end)\n",
    "        if k % 3 == 0:                \n",
    "            print(\"\\n\")\n",
    "\n",
    "def has_won(cell):\n",
    "    for neighbors in winning_patterns[cell]:\n",
    "        if all(map(lambda x: board[x] == board[cell], neighbors)):\n",
    "            return True\n",
    "    \n",
    "    return False\n",
    "\n",
    "print('''This is a simulation of a Tic-Tac-Toe game.\n",
    "Each player can choose to mark an unused cell by typing in the number of that cell.\n",
    "An empty board is shown below with the cells numbered.''')\n",
    "\n",
    "print_board()"
   ]
  },
  {
   "cell_type": "code",
   "execution_count": null,
   "metadata": {},
   "outputs": [],
   "source": [
    "symbols = ['X', 'O']\n",
    "idx = 0\n",
    "\n",
    "while None in board.values():\n",
    "    cell = int(input(\"Choose a cell: \"))\n",
    "    if board[cell] is not None:\n",
    "        print(f\"Cell {cell} is taken. Try again.\")\n",
    "        continue\n",
    "    \n",
    "    board[cell] = symbols[idx]\n",
    "    idx = (idx + 1) % 2\n",
    "    print_board()\n",
    "    \n",
    "    if has_won(cell):\n",
    "        print(\"Congratulations, you won!\")\n",
    "        break"
   ]
  },
  {
   "cell_type": "code",
   "execution_count": null,
   "metadata": {},
   "outputs": [],
   "source": []
  }
 ],
 "metadata": {
  "kernelspec": {
   "display_name": "Python 3",
   "language": "python",
   "name": "python3"
  },
  "language_info": {
   "codemirror_mode": {
    "name": "ipython",
    "version": 3
   },
   "file_extension": ".py",
   "mimetype": "text/x-python",
   "name": "python",
   "nbconvert_exporter": "python",
   "pygments_lexer": "ipython3",
   "version": "3.7.4"
  }
 },
 "nbformat": 4,
 "nbformat_minor": 2
}
